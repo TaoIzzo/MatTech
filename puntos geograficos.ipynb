{
 "cells": [
  {
   "cell_type": "code",
   "execution_count": 1,
   "id": "5458578d",
   "metadata": {},
   "outputs": [],
   "source": [
    "import numpy as np\n",
    "import random as rdn\n",
    "import matplotlib.pyplot as plt\n",
    "from scipy.spatial import distance as dis\n",
    "import pandas as pd"
   ]
  },
  {
   "cell_type": "code",
   "execution_count": 2,
   "id": "35f06c3a",
   "metadata": {},
   "outputs": [
    {
     "data": {
      "text/plain": [
       "3"
      ]
     },
     "execution_count": 2,
     "metadata": {},
     "output_type": "execute_result"
    }
   ],
   "source": [
    "rdn.randint(1,5)"
   ]
  },
  {
   "cell_type": "code",
   "execution_count": 3,
   "id": "8caf3ee0",
   "metadata": {},
   "outputs": [
    {
     "data": {
      "text/plain": [
       "8"
      ]
     },
     "execution_count": 3,
     "metadata": {},
     "output_type": "execute_result"
    }
   ],
   "source": [
    "rdn.randrange(1,10)"
   ]
  },
  {
   "cell_type": "code",
   "execution_count": 4,
   "id": "9b973d23",
   "metadata": {},
   "outputs": [],
   "source": [
    "x=list(np.random.randint(1,500,100))\n",
    "y=list(np.random.randint(1,500,100))"
   ]
  },
  {
   "cell_type": "code",
   "execution_count": 5,
   "id": "e3aed9f9",
   "metadata": {
    "scrolled": false
   },
   "outputs": [
    {
     "data": {
      "text/plain": [
       "<matplotlib.patches.Circle at 0x1ad3df915e0>"
      ]
     },
     "execution_count": 5,
     "metadata": {},
     "output_type": "execute_result"
    },
    {
     "data": {
      "image/png": "[encoded data removed]",
      "text/plain": [
       "<Figure size 576x576 with 1 Axes>"
      ]
     },
     "metadata": {
      "needs_background": "light"
     },
     "output_type": "display_data"
    }
   ],
   "source": [
    "plt.figure(figsize=(8,8))\n",
    "plt.scatter(x,y,s=2)\n",
    "plt.scatter(50,50,color=\"red\",s=10)\n",
    "\n",
    "plt.gca().add_patch(plt.Circle((50,50),100,fill=False))\n"
   ]
  },
  {
   "cell_type": "code",
   "execution_count": 6,
   "id": "49b0deb6",
   "metadata": {},
   "outputs": [],
   "source": [
    "pto_1=(50,50)\n",
    "pt0_2=(10,25)"
   ]
  },
  {
   "cell_type": "code",
   "execution_count": 7,
   "id": "d2a8511d",
   "metadata": {},
   "outputs": [
    {
     "data": {
      "text/plain": [
       "47.16990566028302"
      ]
     },
     "execution_count": 7,
     "metadata": {},
     "output_type": "execute_result"
    }
   ],
   "source": [
    "np.sqrt(((pt0_2[0]-pto_1[0])**2)+((pt0_2[1]-pto_1[1])**2))"
   ]
  },
  {
   "cell_type": "code",
   "execution_count": 8,
   "id": "79c1b1ba",
   "metadata": {},
   "outputs": [],
   "source": [
    "x=list(np.random.randint(1,100,100))\n",
    "y=list(np.random.randint(1,100,100))"
   ]
  },
  {
   "cell_type": "code",
   "execution_count": 9,
   "id": "b3897bfc",
   "metadata": {},
   "outputs": [
    {
     "name": "stdout",
     "output_type": "stream",
     "text": [
      "dentro: 2\n",
      "fuera: 98\n"
     ]
    },
    {
     "data": {
      "image/png": "[encoded data removed]",
      "text/plain": [
       "<Figure size 576x576 with 1 Axes>"
      ]
     },
     "metadata": {
      "needs_background": "light"
     },
     "output_type": "display_data"
    }
   ],
   "source": [
    "centro=(50,50)\n",
    "contador_d=0\n",
    "contador_f=0\n",
    "for i in range(len(x)):\n",
    "    punto=(x[i],y[i])\n",
    "    distancia=dis.euclidean(centro,punto)\n",
    "    if distancia<10:\n",
    "        contador_d=contador_d+1\n",
    "    else:\n",
    "        contador_f=contador_f+1\n",
    "        \n",
    "plt.figure(figsize=(8,8))\n",
    "plt.scatter(x,y,s=10)\n",
    "plt.scatter(centro[0],centro[1],color=\"red\",s=5)\n",
    "\n",
    "plt.gca().add_patch(plt.Circle((centro[0],centro[1]),10,fill=False))\n",
    "print(\"dentro:\",contador_d)\n",
    "print(\"fuera:\",contador_f)"
   ]
  },
  {
   "cell_type": "code",
   "execution_count": 10,
   "id": "709a673a",
   "metadata": {},
   "outputs": [
    {
     "name": "stdout",
     "output_type": "stream",
     "text": [
      "(10, 94)\n",
      "(67, 83)\n",
      "(97, 83)\n",
      "(31, 40)\n",
      "(6, 79)\n",
      "(16, 47)\n",
      "(16, 24)\n",
      "(98, 41)\n",
      "(5, 1)\n",
      "(19, 71)\n",
      "(52, 51)\n",
      "(87, 26)\n",
      "(9, 50)\n",
      "(39, 47)\n",
      "(16, 16)\n",
      "(33, 62)\n",
      "(68, 14)\n",
      "(30, 24)\n",
      "(33, 64)\n",
      "(56, 46)\n",
      "(66, 48)\n",
      "(32, 36)\n",
      "(82, 30)\n",
      "(16, 18)\n",
      "(91, 38)\n",
      "(38, 64)\n",
      "(87, 38)\n",
      "(11, 93)\n",
      "(86, 85)\n",
      "(7, 9)\n",
      "(97, 63)\n",
      "(16, 64)\n",
      "(52, 63)\n",
      "(23, 27)\n",
      "(40, 20)\n",
      "(11, 89)\n",
      "(20, 25)\n",
      "(22, 49)\n",
      "(99, 76)\n",
      "(50, 16)\n",
      "(6, 45)\n",
      "(54, 25)\n",
      "(81, 60)\n",
      "(37, 48)\n",
      "(18, 45)\n",
      "(86, 54)\n",
      "(7, 92)\n",
      "(2, 24)\n",
      "(60, 44)\n",
      "(52, 96)\n",
      "(46, 11)\n",
      "(12, 4)\n",
      "(83, 85)\n",
      "(28, 55)\n",
      "(85, 66)\n",
      "(99, 61)\n",
      "(22, 60)\n",
      "(73, 30)\n",
      "(40, 10)\n",
      "(7, 31)\n",
      "(7, 98)\n",
      "(16, 39)\n",
      "(31, 66)\n",
      "(34, 36)\n",
      "(58, 43)\n",
      "(89, 62)\n",
      "(96, 40)\n",
      "(77, 58)\n",
      "(66, 69)\n",
      "(2, 25)\n",
      "(17, 53)\n",
      "(49, 92)\n",
      "(86, 32)\n",
      "(15, 53)\n",
      "(85, 97)\n",
      "(46, 81)\n",
      "(88, 31)\n",
      "(80, 60)\n",
      "(26, 71)\n",
      "(33, 66)\n",
      "(85, 90)\n",
      "(33, 15)\n",
      "(32, 10)\n",
      "(80, 4)\n",
      "(82, 98)\n",
      "(31, 72)\n",
      "(69, 12)\n",
      "(87, 16)\n",
      "(83, 14)\n",
      "(58, 80)\n",
      "(5, 33)\n",
      "(6, 20)\n",
      "(45, 86)\n",
      "(42, 63)\n",
      "(23, 97)\n",
      "(13, 88)\n",
      "(86, 48)\n",
      "(60, 60)\n",
      "(52, 88)\n",
      "(76, 2)\n"
     ]
    },
    {
     "data": {
      "text/plain": [
       "2"
      ]
     },
     "execution_count": 10,
     "metadata": {},
     "output_type": "execute_result"
    }
   ],
   "source": [
    "centro=(50,50)\n",
    "contador_d=0\n",
    "contador_f=0\n",
    "for i in range(len(x)):\n",
    "    punto=(x[i],y[i])\n",
    "    print(punto)\n",
    "len(punto)"
   ]
  },
  {
   "cell_type": "code",
   "execution_count": 11,
   "id": "de96b153",
   "metadata": {},
   "outputs": [
    {
     "data": {
      "text/plain": [
       "[10,\n",
       " 67,\n",
       " 97,\n",
       " 31,\n",
       " 6,\n",
       " 16,\n",
       " 16,\n",
       " 98,\n",
       " 5,\n",
       " 19,\n",
       " 52,\n",
       " 87,\n",
       " 9,\n",
       " 39,\n",
       " 16,\n",
       " 33,\n",
       " 68,\n",
       " 30,\n",
       " 33,\n",
       " 56,\n",
       " 66,\n",
       " 32,\n",
       " 82,\n",
       " 16,\n",
       " 91,\n",
       " 38,\n",
       " 87,\n",
       " 11,\n",
       " 86,\n",
       " 7,\n",
       " 97,\n",
       " 16,\n",
       " 52,\n",
       " 23,\n",
       " 40,\n",
       " 11,\n",
       " 20,\n",
       " 22,\n",
       " 99,\n",
       " 50,\n",
       " 6,\n",
       " 54,\n",
       " 81,\n",
       " 37,\n",
       " 18,\n",
       " 86,\n",
       " 7,\n",
       " 2,\n",
       " 60,\n",
       " 52,\n",
       " 46,\n",
       " 12,\n",
       " 83,\n",
       " 28,\n",
       " 85,\n",
       " 99,\n",
       " 22,\n",
       " 73,\n",
       " 40,\n",
       " 7,\n",
       " 7,\n",
       " 16,\n",
       " 31,\n",
       " 34,\n",
       " 58,\n",
       " 89,\n",
       " 96,\n",
       " 77,\n",
       " 66,\n",
       " 2,\n",
       " 17,\n",
       " 49,\n",
       " 86,\n",
       " 15,\n",
       " 85,\n",
       " 46,\n",
       " 88,\n",
       " 80,\n",
       " 26,\n",
       " 33,\n",
       " 85,\n",
       " 33,\n",
       " 32,\n",
       " 80,\n",
       " 82,\n",
       " 31,\n",
       " 69,\n",
       " 87,\n",
       " 83,\n",
       " 58,\n",
       " 5,\n",
       " 6,\n",
       " 45,\n",
       " 42,\n",
       " 23,\n",
       " 13,\n",
       " 86,\n",
       " 60,\n",
       " 52,\n",
       " 76]"
      ]
     },
     "execution_count": 11,
     "metadata": {},
     "output_type": "execute_result"
    }
   ],
   "source": [
    "x"
   ]
  }
 ],
 "metadata": {
  "kernelspec": {
   "display_name": "Python 3 (ipykernel)",
   "language": "python",
   "name": "python3"
  },
  "language_info": {
   "codemirror_mode": {
    "name": "ipython",
    "version": 3
   },
   "file_extension": ".py",
   "mimetype": "text/x-python",
   "name": "python",
   "nbconvert_exporter": "python",
   "pygments_lexer": "ipython3",
   "version": "3.11.2"
  }
 },
 "nbformat": 4,
 "nbformat_minor": 5
}
